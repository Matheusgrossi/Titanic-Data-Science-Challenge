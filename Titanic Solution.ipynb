{
 "cells": [
  {
   "cell_type": "markdown",
   "metadata": {},
   "source": [
    "<h3>Importing and initializing libraries to structure and organize Data</h3>\n",
    "<h5><strong>model {string}:</strong> Indicates which classification model will be used in this notebook.</h5>\n",
    "<h5><strong>x {DataFrame}</strong> The Training Set processed and ready to train the Classification Model in the Notebook.</h5>\n",
    "<h5><strong>y {Numpy.Array}</strong> The \"Survived\" column that we want to predict given x.</h5>\n",
    "<h5><strong>X {DataFrame}</strong> The Input Data Set that we want to input to the model to predict y.</h5>"
   ]
  },
  {
   "cell_type": "code",
   "execution_count": 120,
   "metadata": {
    "jupyter": {
     "source_hidden": true
    }
   },
   "outputs": [],
   "source": [
    "model = 'tree'\n",
    "clf = None\n",
    "\n",
    "x = None\n",
    "y = None\n",
    "X = None\n",
    "\n",
    "is_data_processed = False if (x and y and X) is None else True"
   ]
  },
  {
   "cell_type": "markdown",
   "metadata": {},
   "source": [
    "<h3>Importing and initializing Data preprocessing libraries</h3>"
   ]
  },
  {
   "cell_type": "code",
   "execution_count": 121,
   "metadata": {
    "jupyter": {
     "source_hidden": true
    }
   },
   "outputs": [],
   "source": [
    "import numpy as np\n",
    "\n",
    "from sklearn.impute import SimpleImputer\n",
    "from sklearn.preprocessing import LabelEncoder, MinMaxScaler\n",
    "\n",
    "imputer = SimpleImputer(missing_values=np.nan, strategy='mean')\n",
    "min_max_scaler = MinMaxScaler()"
   ]
  },
  {
   "cell_type": "markdown",
   "metadata": {},
   "source": [
    "<h3>Loads XML files to DataFrame and removes unused Data Columns</h3>\n",
    "<h5><strong>unused_columns {list}:</strong> columns to be removed from the Data Sets hence they have no use for the model.</h5>\n",
    "<h5><strong>test_df {DataFrame}:</strong> Input Data Set.</h5>\n",
    "<h5><strong>train_df {DataFrame}:</strong> Training Set.</h5>\n",
    "<h5><strong>dfs {Dict}:</strong> dictionary containing both the Input Data Set (test_df) and the Training Data Set (train_df).</h5>"
   ]
  },
  {
   "cell_type": "code",
   "execution_count": 3,
   "metadata": {
    "jupyter": {
     "source_hidden": true
    }
   },
   "outputs": [],
   "source": [
    "import pandas as pd\n",
    "import os\n",
    "\n",
    "unused_columns = ['Name', 'Ticket', 'Cabin', 'SibSp', 'Parch', 'Embarked']\n",
    "\n",
    "test_df = pd.read_csv(os.getcwd() + '/test.csv').drop(columns=unused_columns).convert_dtypes()\n",
    "train_df = pd.read_csv(os.getcwd() + '/train.csv').drop(columns=unused_columns).convert_dtypes()\n",
    "\n",
    "dfs = { 'test_df' : test_df , 'train_df' : train_df }"
   ]
  },
  {
   "cell_type": "markdown",
   "metadata": {},
   "source": [
    "<h3>Data Preprocessing</h3>\n",
    "<h5><strong>1 -</strong> Fills the NaN (missing values) with their average in the \"Age\" and \"Fare\" columns.</h5>\n",
    "<h5><strong>2 -</strong> Transforms the \"Age\" column from Float to Integer.</h5>\n",
    "<h5><strong>3 -</strong> Using OneHotEncoding to deal witg the categorical values in the \"Sex\" and \"Pclass\" columns.</h5>\n",
    "<h5><strong>4 -</strong> Update each DataFrame with preprocessed Data inside the Dictionary.</h5>\n",
    "<h5><strong>5 -</strong> Applies MinMax into all numerical values in the DataSet so that they can have the same Scale and separates the \"Survived\" column into the variable 'y'.</h5>"
   ]
  },
  {
   "cell_type": "code",
   "execution_count": 123,
   "metadata": {
    "jupyter": {
     "source_hidden": true
    }
   },
   "outputs": [],
   "source": [
    "if not is_data_processed:\n",
    "    \n",
    "    for key in dfs:\n",
    "        \n",
    "        #1\n",
    "        imputer.fit(dfs[key][['Age', 'Fare']])\n",
    "        dfs[key][['Age', 'Fare']] = imputer.transform(dfs[key][['Age', 'Fare']])\n",
    "\n",
    "        #2\n",
    "        dfs[key]['Age'] = dfs[key]['Age'].astype(int)\n",
    "\n",
    "        #3\n",
    "        encoded_sex = pd.get_dummies(dfs[key]['Sex'], prefix='Sex')\n",
    "        encoded_pclass = pd.get_dummies(dfs[key]['Pclass'], prefix='Pclass')\n",
    "\n",
    "        #4\n",
    "        dfs[key] = pd.DataFrame(dfs[key]['PassengerId']).join(dfs[key]['Survived'] if len(dfs[key].columns) > 5 else pd.DataFrame()).join(encoded_sex).join(encoded_pclass).join(dfs[key][['Age', 'Fare']])\n",
    "        \n",
    "    #5\n",
    "    x = min_max_scaler.fit_transform(dfs['train_df'].copy(deep=True).drop(columns=['Survived']))\n",
    "    y = min_max_scaler.fit_transform(dfs['train_df']['Survived'].to_numpy().reshape(-1, 1)).ravel()\n",
    "    X = min_max_scaler.fit_transform(dfs['test_df'])\n",
    "        \n",
    "    is_data_processed = True"
   ]
  },
  {
   "cell_type": "code",
   "execution_count": 124,
   "metadata": {
    "jupyter": {
     "source_hidden": true
    }
   },
   "outputs": [
    {
     "data": {
      "text/html": [
       "<div>\n",
       "<style scoped>\n",
       "    .dataframe tbody tr th:only-of-type {\n",
       "        vertical-align: middle;\n",
       "    }\n",
       "\n",
       "    .dataframe tbody tr th {\n",
       "        vertical-align: top;\n",
       "    }\n",
       "\n",
       "    .dataframe thead th {\n",
       "        text-align: right;\n",
       "    }\n",
       "</style>\n",
       "<table border=\"1\" class=\"dataframe\">\n",
       "  <thead>\n",
       "    <tr style=\"text-align: right;\">\n",
       "      <th></th>\n",
       "      <th>PassengerId</th>\n",
       "      <th>Survived</th>\n",
       "      <th>Sex_female</th>\n",
       "      <th>Sex_male</th>\n",
       "      <th>Pclass_1</th>\n",
       "      <th>Pclass_2</th>\n",
       "      <th>Pclass_3</th>\n",
       "      <th>Age</th>\n",
       "      <th>Fare</th>\n",
       "    </tr>\n",
       "  </thead>\n",
       "  <tbody>\n",
       "    <tr>\n",
       "      <th>0</th>\n",
       "      <td>1</td>\n",
       "      <td>0</td>\n",
       "      <td>0</td>\n",
       "      <td>1</td>\n",
       "      <td>0</td>\n",
       "      <td>0</td>\n",
       "      <td>1</td>\n",
       "      <td>22</td>\n",
       "      <td>7.2500</td>\n",
       "    </tr>\n",
       "    <tr>\n",
       "      <th>1</th>\n",
       "      <td>2</td>\n",
       "      <td>1</td>\n",
       "      <td>1</td>\n",
       "      <td>0</td>\n",
       "      <td>1</td>\n",
       "      <td>0</td>\n",
       "      <td>0</td>\n",
       "      <td>38</td>\n",
       "      <td>71.2833</td>\n",
       "    </tr>\n",
       "    <tr>\n",
       "      <th>2</th>\n",
       "      <td>3</td>\n",
       "      <td>1</td>\n",
       "      <td>1</td>\n",
       "      <td>0</td>\n",
       "      <td>0</td>\n",
       "      <td>0</td>\n",
       "      <td>1</td>\n",
       "      <td>26</td>\n",
       "      <td>7.9250</td>\n",
       "    </tr>\n",
       "    <tr>\n",
       "      <th>3</th>\n",
       "      <td>4</td>\n",
       "      <td>1</td>\n",
       "      <td>1</td>\n",
       "      <td>0</td>\n",
       "      <td>1</td>\n",
       "      <td>0</td>\n",
       "      <td>0</td>\n",
       "      <td>35</td>\n",
       "      <td>53.1000</td>\n",
       "    </tr>\n",
       "    <tr>\n",
       "      <th>4</th>\n",
       "      <td>5</td>\n",
       "      <td>0</td>\n",
       "      <td>0</td>\n",
       "      <td>1</td>\n",
       "      <td>0</td>\n",
       "      <td>0</td>\n",
       "      <td>1</td>\n",
       "      <td>35</td>\n",
       "      <td>8.0500</td>\n",
       "    </tr>\n",
       "  </tbody>\n",
       "</table>\n",
       "</div>"
      ],
      "text/plain": [
       "   PassengerId  Survived  Sex_female  Sex_male  Pclass_1  Pclass_2  Pclass_3  \\\n",
       "0            1         0           0         1         0         0         1   \n",
       "1            2         1           1         0         1         0         0   \n",
       "2            3         1           1         0         0         0         1   \n",
       "3            4         1           1         0         1         0         0   \n",
       "4            5         0           0         1         0         0         1   \n",
       "\n",
       "   Age     Fare  \n",
       "0   22   7.2500  \n",
       "1   38  71.2833  \n",
       "2   26   7.9250  \n",
       "3   35  53.1000  \n",
       "4   35   8.0500  "
      ]
     },
     "execution_count": 124,
     "metadata": {},
     "output_type": "execute_result"
    }
   ],
   "source": [
    "dfs['train_df'].head()"
   ]
  },
  {
   "cell_type": "markdown",
   "metadata": {},
   "source": [
    "<h3>Pre-process Data Set using MinMax Scaler</h3>"
   ]
  },
  {
   "cell_type": "code",
   "execution_count": 125,
   "metadata": {
    "jupyter": {
     "source_hidden": true
    }
   },
   "outputs": [
    {
     "data": {
      "text/html": [
       "<div>\n",
       "<style scoped>\n",
       "    .dataframe tbody tr th:only-of-type {\n",
       "        vertical-align: middle;\n",
       "    }\n",
       "\n",
       "    .dataframe tbody tr th {\n",
       "        vertical-align: top;\n",
       "    }\n",
       "\n",
       "    .dataframe thead th {\n",
       "        text-align: right;\n",
       "    }\n",
       "</style>\n",
       "<table border=\"1\" class=\"dataframe\">\n",
       "  <thead>\n",
       "    <tr style=\"text-align: right;\">\n",
       "      <th></th>\n",
       "      <th>PassengerId</th>\n",
       "      <th>Sex_female</th>\n",
       "      <th>Sex_male</th>\n",
       "      <th>Pclass_1</th>\n",
       "      <th>Pclass_2</th>\n",
       "      <th>Pclass_3</th>\n",
       "      <th>Age</th>\n",
       "      <th>Fare</th>\n",
       "    </tr>\n",
       "  </thead>\n",
       "  <tbody>\n",
       "    <tr>\n",
       "      <th>0</th>\n",
       "      <td>892</td>\n",
       "      <td>0</td>\n",
       "      <td>1</td>\n",
       "      <td>0</td>\n",
       "      <td>0</td>\n",
       "      <td>1</td>\n",
       "      <td>34</td>\n",
       "      <td>7.8292</td>\n",
       "    </tr>\n",
       "    <tr>\n",
       "      <th>1</th>\n",
       "      <td>893</td>\n",
       "      <td>1</td>\n",
       "      <td>0</td>\n",
       "      <td>0</td>\n",
       "      <td>0</td>\n",
       "      <td>1</td>\n",
       "      <td>47</td>\n",
       "      <td>7.0000</td>\n",
       "    </tr>\n",
       "    <tr>\n",
       "      <th>2</th>\n",
       "      <td>894</td>\n",
       "      <td>0</td>\n",
       "      <td>1</td>\n",
       "      <td>0</td>\n",
       "      <td>1</td>\n",
       "      <td>0</td>\n",
       "      <td>62</td>\n",
       "      <td>9.6875</td>\n",
       "    </tr>\n",
       "    <tr>\n",
       "      <th>3</th>\n",
       "      <td>895</td>\n",
       "      <td>0</td>\n",
       "      <td>1</td>\n",
       "      <td>0</td>\n",
       "      <td>0</td>\n",
       "      <td>1</td>\n",
       "      <td>27</td>\n",
       "      <td>8.6625</td>\n",
       "    </tr>\n",
       "    <tr>\n",
       "      <th>4</th>\n",
       "      <td>896</td>\n",
       "      <td>1</td>\n",
       "      <td>0</td>\n",
       "      <td>0</td>\n",
       "      <td>0</td>\n",
       "      <td>1</td>\n",
       "      <td>22</td>\n",
       "      <td>12.2875</td>\n",
       "    </tr>\n",
       "  </tbody>\n",
       "</table>\n",
       "</div>"
      ],
      "text/plain": [
       "   PassengerId  Sex_female  Sex_male  Pclass_1  Pclass_2  Pclass_3  Age  \\\n",
       "0          892           0         1         0         0         1   34   \n",
       "1          893           1         0         0         0         1   47   \n",
       "2          894           0         1         0         1         0   62   \n",
       "3          895           0         1         0         0         1   27   \n",
       "4          896           1         0         0         0         1   22   \n",
       "\n",
       "      Fare  \n",
       "0   7.8292  \n",
       "1   7.0000  \n",
       "2   9.6875  \n",
       "3   8.6625  \n",
       "4  12.2875  "
      ]
     },
     "execution_count": 125,
     "metadata": {},
     "output_type": "execute_result"
    }
   ],
   "source": [
    "dfs['test_df'].head()"
   ]
  },
  {
   "cell_type": "markdown",
   "metadata": {},
   "source": [
    "<h3>Logistic Regression</h3>\n",
    "<h5>Using a K-Fold = 5</h5>"
   ]
  },
  {
   "cell_type": "code",
   "execution_count": 126,
   "metadata": {
    "jupyter": {
     "source_hidden": true
    }
   },
   "outputs": [],
   "source": [
    "if model == 'logistic':\n",
    "    from sklearn.linear_model import LogisticRegressionCV\n",
    "    \n",
    "    clf = LogisticRegressionCV(cv=5)\n",
    "    clf.fit(x, y)"
   ]
  },
  {
   "cell_type": "markdown",
   "metadata": {},
   "source": [
    "<h3>Stohastic Gradient Descent</h3>\n",
    "<h5>Loss = Huber</h5>\n",
    "<h5>Penalty = Level 2</h5>\n",
    "<h5>Maximum iterations = 1500</h5>\n",
    "<h5>Expected accuracy = 78.67564534231201</h5>"
   ]
  },
  {
   "cell_type": "code",
   "execution_count": 127,
   "metadata": {
    "jupyter": {
     "source_hidden": true
    }
   },
   "outputs": [],
   "source": [
    "if model == 'sgdc':\n",
    "    from sklearn.linear_model import SGDClassifier\n",
    "    \n",
    "    clf = SGDClassifier(loss='huber', penalty='l2', max_iter=1500)\n",
    "    clf.fit(x, y)"
   ]
  },
  {
   "cell_type": "markdown",
   "metadata": {},
   "source": [
    "<h3>Decision Tree Classification</h3>\n",
    "<h4>Model with best score until now</h4>\n",
    "<h5>random_state = 0</h5>\n",
    "<h5>max_depth = 3 (avoid increasing the max_depth to more than 3 because it causes overfitting)</h5>\n",
    "<h5>Expected accuracy = 0.8237934904601572</h5>"
   ]
  },
  {
   "cell_type": "code",
   "execution_count": 128,
   "metadata": {
    "jupyter": {
     "source_hidden": true
    }
   },
   "outputs": [],
   "source": [
    "if model == 'tree':\n",
    "    from sklearn import tree\n",
    "    \n",
    "    clf = tree.DecisionTreeClassifier(random_state=0, max_depth=3)\n",
    "    clf.fit(x, y)"
   ]
  },
  {
   "cell_type": "markdown",
   "metadata": {},
   "source": [
    "<h3>Perform prediction</h3>"
   ]
  },
  {
   "cell_type": "code",
   "execution_count": 129,
   "metadata": {
    "jupyter": {
     "source_hidden": true
    }
   },
   "outputs": [],
   "source": [
    "output = clf.predict(X)"
   ]
  },
  {
   "cell_type": "markdown",
   "metadata": {},
   "source": [
    "<h3>Saving predictions into CSV file to be submitted in Kaggle</h3>"
   ]
  },
  {
   "cell_type": "code",
   "execution_count": 130,
   "metadata": {
    "jupyter": {
     "source_hidden": true
    }
   },
   "outputs": [],
   "source": [
    "predictions_df = pd.DataFrame({'PassengerId' : pd.read_csv('/Users/matheusgrossi/Documents/Jupyter Notebooks/Titanic/Data/test.csv')['PassengerId'].values.tolist(), 'Survived' : output.astype(int)}, index=None)\n",
    "predictions_df.to_csv('predictions.csv', index=False)"
   ]
  },
  {
   "cell_type": "markdown",
   "metadata": {},
   "source": [
    "<h3>Current Model Accuracy</h3>"
   ]
  },
  {
   "cell_type": "code",
   "execution_count": 131,
   "metadata": {
    "jupyter": {
     "source_hidden": true
    }
   },
   "outputs": [
    {
     "name": "stdout",
     "output_type": "stream",
     "text": [
      "0.8237934904601572\n"
     ]
    }
   ],
   "source": [
    "accuracy = clf.score(x, y.ravel())\n",
    "print(accuracy)"
   ]
  },
  {
   "cell_type": "code",
   "execution_count": null,
   "metadata": {},
   "outputs": [],
   "source": []
  }
 ],
 "metadata": {
  "kernelspec": {
   "display_name": "Python 3",
   "language": "python",
   "name": "python3"
  },
  "language_info": {
   "codemirror_mode": {
    "name": "ipython",
    "version": 3
   },
   "file_extension": ".py",
   "mimetype": "text/x-python",
   "name": "python",
   "nbconvert_exporter": "python",
   "pygments_lexer": "ipython3",
   "version": "3.8.5"
  }
 },
 "nbformat": 4,
 "nbformat_minor": 4
}
